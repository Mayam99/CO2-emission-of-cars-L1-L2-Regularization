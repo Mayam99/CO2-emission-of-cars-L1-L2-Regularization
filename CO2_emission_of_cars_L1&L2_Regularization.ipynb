{
  "nbformat": 4,
  "nbformat_minor": 0,
  "metadata": {
    "colab": {
      "provenance": []
    },
    "kernelspec": {
      "name": "python3",
      "display_name": "Python 3"
    },
    "language_info": {
      "name": "python"
    }
  },
  "cells": [
    {
      "cell_type": "markdown",
      "source": [
        "##Introduction to the CO2 Emission of Cars Dataset\n",
        "###The CO2 Emission of Cars dataset from Kaggle contains data related to various car models and their corresponding CO2 emissions. The dataset is typically used to explore the relationship between vehicle characteristics and their environmental impact, particularly focusing on the factors contributing to CO2 emissions. The key attributes usually include features like engine size, fuel consumption, number of cylinders, vehicle weight, fuel type, and more, which are indicative of a vehicle’s emission profile.\n",
        "##Dataset Features\n",
        "###The dataset often consists of the following columns:\n",
        "\n",
        "1. Make: The manufacturer or brand of the vehicle.\n",
        "2. Model: Specific car model.\n",
        "3. Engine Size (L): The size of the engine in liters.\n",
        "4. Cylinders: Number of cylinders in the engine.\n",
        "5. Fuel Consumption (City/Highway): Fuel consumption measured in liters per 100 kilometers (L/100km).\n",
        "6. CO2 Emissions (g/km): Grams of CO2 emitted per kilometer, which is the target variable for prediction.\n",
        "7. Fuel Type: Type of fuel used (e.g., Gasoline, Diesel, etc.).\n",
        "\n",
        "###These features are crucial for understanding the emission levels of vehicles and for building predictive models that can accurately estimate CO2 emissions."
      ],
      "metadata": {
        "id": "qtrssHI2w-pS"
      }
    },
    {
      "cell_type": "markdown",
      "source": [
        "##Importing Necessary Libraries"
      ],
      "metadata": {
        "id": "p4ym-boZxalc"
      }
    },
    {
      "cell_type": "code",
      "execution_count": 1,
      "metadata": {
        "id": "WJdflBhQlgi2"
      },
      "outputs": [],
      "source": [
        "import numpy as np # NumPy is a powerful tool for numerical computations in Python\n",
        "import pandas as pd # Pandas is a powerful library for data manipulation and analysis."
      ]
    },
    {
      "cell_type": "code",
      "source": [
        "df = pd.read_csv(\"DATA.csv\")  #The df = pd.read_csv line reads a CSV file into a DataFrame named df using the pandas library."
      ],
      "metadata": {
        "id": "tmbXX_ibsQ1x"
      },
      "execution_count": 2,
      "outputs": []
    },
    {
      "cell_type": "code",
      "source": [
        "df.head() # Displays the first five rows of the DataFrame, allowing you to quickly preview the data."
      ],
      "metadata": {
        "colab": {
          "base_uri": "https://localhost:8080/",
          "height": 206
        },
        "id": "00GiIV7VsTMg",
        "outputId": "5aa46cba-05e9-4075-ea5b-789fead35633"
      },
      "execution_count": 3,
      "outputs": [
        {
          "output_type": "execute_result",
          "data": {
            "text/plain": [
              "          Car       Model  Volume  Weight  CO2  Unnamed: 5\n",
              "0      Toyota        Aygo    1000     790   99         NaN\n",
              "1  Mitsubishi  Space Star    1200    1160   95         NaN\n",
              "2       Skoda      Citigo    1000     929   95         NaN\n",
              "3        Fiat         500     900     865   90         NaN\n",
              "4        Mini      Cooper    1500    1140  105         NaN"
            ],
            "text/html": [
              "\n",
              "  <div id=\"df-b773ba97-ac44-4dfe-93b4-1bb11fb3e89e\" class=\"colab-df-container\">\n",
              "    <div>\n",
              "<style scoped>\n",
              "    .dataframe tbody tr th:only-of-type {\n",
              "        vertical-align: middle;\n",
              "    }\n",
              "\n",
              "    .dataframe tbody tr th {\n",
              "        vertical-align: top;\n",
              "    }\n",
              "\n",
              "    .dataframe thead th {\n",
              "        text-align: right;\n",
              "    }\n",
              "</style>\n",
              "<table border=\"1\" class=\"dataframe\">\n",
              "  <thead>\n",
              "    <tr style=\"text-align: right;\">\n",
              "      <th></th>\n",
              "      <th>Car</th>\n",
              "      <th>Model</th>\n",
              "      <th>Volume</th>\n",
              "      <th>Weight</th>\n",
              "      <th>CO2</th>\n",
              "      <th>Unnamed: 5</th>\n",
              "    </tr>\n",
              "  </thead>\n",
              "  <tbody>\n",
              "    <tr>\n",
              "      <th>0</th>\n",
              "      <td>Toyota</td>\n",
              "      <td>Aygo</td>\n",
              "      <td>1000</td>\n",
              "      <td>790</td>\n",
              "      <td>99</td>\n",
              "      <td>NaN</td>\n",
              "    </tr>\n",
              "    <tr>\n",
              "      <th>1</th>\n",
              "      <td>Mitsubishi</td>\n",
              "      <td>Space Star</td>\n",
              "      <td>1200</td>\n",
              "      <td>1160</td>\n",
              "      <td>95</td>\n",
              "      <td>NaN</td>\n",
              "    </tr>\n",
              "    <tr>\n",
              "      <th>2</th>\n",
              "      <td>Skoda</td>\n",
              "      <td>Citigo</td>\n",
              "      <td>1000</td>\n",
              "      <td>929</td>\n",
              "      <td>95</td>\n",
              "      <td>NaN</td>\n",
              "    </tr>\n",
              "    <tr>\n",
              "      <th>3</th>\n",
              "      <td>Fiat</td>\n",
              "      <td>500</td>\n",
              "      <td>900</td>\n",
              "      <td>865</td>\n",
              "      <td>90</td>\n",
              "      <td>NaN</td>\n",
              "    </tr>\n",
              "    <tr>\n",
              "      <th>4</th>\n",
              "      <td>Mini</td>\n",
              "      <td>Cooper</td>\n",
              "      <td>1500</td>\n",
              "      <td>1140</td>\n",
              "      <td>105</td>\n",
              "      <td>NaN</td>\n",
              "    </tr>\n",
              "  </tbody>\n",
              "</table>\n",
              "</div>\n",
              "    <div class=\"colab-df-buttons\">\n",
              "\n",
              "  <div class=\"colab-df-container\">\n",
              "    <button class=\"colab-df-convert\" onclick=\"convertToInteractive('df-b773ba97-ac44-4dfe-93b4-1bb11fb3e89e')\"\n",
              "            title=\"Convert this dataframe to an interactive table.\"\n",
              "            style=\"display:none;\">\n",
              "\n",
              "  <svg xmlns=\"http://www.w3.org/2000/svg\" height=\"24px\" viewBox=\"0 -960 960 960\">\n",
              "    <path d=\"M120-120v-720h720v720H120Zm60-500h600v-160H180v160Zm220 220h160v-160H400v160Zm0 220h160v-160H400v160ZM180-400h160v-160H180v160Zm440 0h160v-160H620v160ZM180-180h160v-160H180v160Zm440 0h160v-160H620v160Z\"/>\n",
              "  </svg>\n",
              "    </button>\n",
              "\n",
              "  <style>\n",
              "    .colab-df-container {\n",
              "      display:flex;\n",
              "      gap: 12px;\n",
              "    }\n",
              "\n",
              "    .colab-df-convert {\n",
              "      background-color: #E8F0FE;\n",
              "      border: none;\n",
              "      border-radius: 50%;\n",
              "      cursor: pointer;\n",
              "      display: none;\n",
              "      fill: #1967D2;\n",
              "      height: 32px;\n",
              "      padding: 0 0 0 0;\n",
              "      width: 32px;\n",
              "    }\n",
              "\n",
              "    .colab-df-convert:hover {\n",
              "      background-color: #E2EBFA;\n",
              "      box-shadow: 0px 1px 2px rgba(60, 64, 67, 0.3), 0px 1px 3px 1px rgba(60, 64, 67, 0.15);\n",
              "      fill: #174EA6;\n",
              "    }\n",
              "\n",
              "    .colab-df-buttons div {\n",
              "      margin-bottom: 4px;\n",
              "    }\n",
              "\n",
              "    [theme=dark] .colab-df-convert {\n",
              "      background-color: #3B4455;\n",
              "      fill: #D2E3FC;\n",
              "    }\n",
              "\n",
              "    [theme=dark] .colab-df-convert:hover {\n",
              "      background-color: #434B5C;\n",
              "      box-shadow: 0px 1px 3px 1px rgba(0, 0, 0, 0.15);\n",
              "      filter: drop-shadow(0px 1px 2px rgba(0, 0, 0, 0.3));\n",
              "      fill: #FFFFFF;\n",
              "    }\n",
              "  </style>\n",
              "\n",
              "    <script>\n",
              "      const buttonEl =\n",
              "        document.querySelector('#df-b773ba97-ac44-4dfe-93b4-1bb11fb3e89e button.colab-df-convert');\n",
              "      buttonEl.style.display =\n",
              "        google.colab.kernel.accessAllowed ? 'block' : 'none';\n",
              "\n",
              "      async function convertToInteractive(key) {\n",
              "        const element = document.querySelector('#df-b773ba97-ac44-4dfe-93b4-1bb11fb3e89e');\n",
              "        const dataTable =\n",
              "          await google.colab.kernel.invokeFunction('convertToInteractive',\n",
              "                                                    [key], {});\n",
              "        if (!dataTable) return;\n",
              "\n",
              "        const docLinkHtml = 'Like what you see? Visit the ' +\n",
              "          '<a target=\"_blank\" href=https://colab.research.google.com/notebooks/data_table.ipynb>data table notebook</a>'\n",
              "          + ' to learn more about interactive tables.';\n",
              "        element.innerHTML = '';\n",
              "        dataTable['output_type'] = 'display_data';\n",
              "        await google.colab.output.renderOutput(dataTable, element);\n",
              "        const docLink = document.createElement('div');\n",
              "        docLink.innerHTML = docLinkHtml;\n",
              "        element.appendChild(docLink);\n",
              "      }\n",
              "    </script>\n",
              "  </div>\n",
              "\n",
              "\n",
              "<div id=\"df-39d0ce61-8bc5-4e4e-b9e4-6cc666226d82\">\n",
              "  <button class=\"colab-df-quickchart\" onclick=\"quickchart('df-39d0ce61-8bc5-4e4e-b9e4-6cc666226d82')\"\n",
              "            title=\"Suggest charts\"\n",
              "            style=\"display:none;\">\n",
              "\n",
              "<svg xmlns=\"http://www.w3.org/2000/svg\" height=\"24px\"viewBox=\"0 0 24 24\"\n",
              "     width=\"24px\">\n",
              "    <g>\n",
              "        <path d=\"M19 3H5c-1.1 0-2 .9-2 2v14c0 1.1.9 2 2 2h14c1.1 0 2-.9 2-2V5c0-1.1-.9-2-2-2zM9 17H7v-7h2v7zm4 0h-2V7h2v10zm4 0h-2v-4h2v4z\"/>\n",
              "    </g>\n",
              "</svg>\n",
              "  </button>\n",
              "\n",
              "<style>\n",
              "  .colab-df-quickchart {\n",
              "      --bg-color: #E8F0FE;\n",
              "      --fill-color: #1967D2;\n",
              "      --hover-bg-color: #E2EBFA;\n",
              "      --hover-fill-color: #174EA6;\n",
              "      --disabled-fill-color: #AAA;\n",
              "      --disabled-bg-color: #DDD;\n",
              "  }\n",
              "\n",
              "  [theme=dark] .colab-df-quickchart {\n",
              "      --bg-color: #3B4455;\n",
              "      --fill-color: #D2E3FC;\n",
              "      --hover-bg-color: #434B5C;\n",
              "      --hover-fill-color: #FFFFFF;\n",
              "      --disabled-bg-color: #3B4455;\n",
              "      --disabled-fill-color: #666;\n",
              "  }\n",
              "\n",
              "  .colab-df-quickchart {\n",
              "    background-color: var(--bg-color);\n",
              "    border: none;\n",
              "    border-radius: 50%;\n",
              "    cursor: pointer;\n",
              "    display: none;\n",
              "    fill: var(--fill-color);\n",
              "    height: 32px;\n",
              "    padding: 0;\n",
              "    width: 32px;\n",
              "  }\n",
              "\n",
              "  .colab-df-quickchart:hover {\n",
              "    background-color: var(--hover-bg-color);\n",
              "    box-shadow: 0 1px 2px rgba(60, 64, 67, 0.3), 0 1px 3px 1px rgba(60, 64, 67, 0.15);\n",
              "    fill: var(--button-hover-fill-color);\n",
              "  }\n",
              "\n",
              "  .colab-df-quickchart-complete:disabled,\n",
              "  .colab-df-quickchart-complete:disabled:hover {\n",
              "    background-color: var(--disabled-bg-color);\n",
              "    fill: var(--disabled-fill-color);\n",
              "    box-shadow: none;\n",
              "  }\n",
              "\n",
              "  .colab-df-spinner {\n",
              "    border: 2px solid var(--fill-color);\n",
              "    border-color: transparent;\n",
              "    border-bottom-color: var(--fill-color);\n",
              "    animation:\n",
              "      spin 1s steps(1) infinite;\n",
              "  }\n",
              "\n",
              "  @keyframes spin {\n",
              "    0% {\n",
              "      border-color: transparent;\n",
              "      border-bottom-color: var(--fill-color);\n",
              "      border-left-color: var(--fill-color);\n",
              "    }\n",
              "    20% {\n",
              "      border-color: transparent;\n",
              "      border-left-color: var(--fill-color);\n",
              "      border-top-color: var(--fill-color);\n",
              "    }\n",
              "    30% {\n",
              "      border-color: transparent;\n",
              "      border-left-color: var(--fill-color);\n",
              "      border-top-color: var(--fill-color);\n",
              "      border-right-color: var(--fill-color);\n",
              "    }\n",
              "    40% {\n",
              "      border-color: transparent;\n",
              "      border-right-color: var(--fill-color);\n",
              "      border-top-color: var(--fill-color);\n",
              "    }\n",
              "    60% {\n",
              "      border-color: transparent;\n",
              "      border-right-color: var(--fill-color);\n",
              "    }\n",
              "    80% {\n",
              "      border-color: transparent;\n",
              "      border-right-color: var(--fill-color);\n",
              "      border-bottom-color: var(--fill-color);\n",
              "    }\n",
              "    90% {\n",
              "      border-color: transparent;\n",
              "      border-bottom-color: var(--fill-color);\n",
              "    }\n",
              "  }\n",
              "</style>\n",
              "\n",
              "  <script>\n",
              "    async function quickchart(key) {\n",
              "      const quickchartButtonEl =\n",
              "        document.querySelector('#' + key + ' button');\n",
              "      quickchartButtonEl.disabled = true;  // To prevent multiple clicks.\n",
              "      quickchartButtonEl.classList.add('colab-df-spinner');\n",
              "      try {\n",
              "        const charts = await google.colab.kernel.invokeFunction(\n",
              "            'suggestCharts', [key], {});\n",
              "      } catch (error) {\n",
              "        console.error('Error during call to suggestCharts:', error);\n",
              "      }\n",
              "      quickchartButtonEl.classList.remove('colab-df-spinner');\n",
              "      quickchartButtonEl.classList.add('colab-df-quickchart-complete');\n",
              "    }\n",
              "    (() => {\n",
              "      let quickchartButtonEl =\n",
              "        document.querySelector('#df-39d0ce61-8bc5-4e4e-b9e4-6cc666226d82 button');\n",
              "      quickchartButtonEl.style.display =\n",
              "        google.colab.kernel.accessAllowed ? 'block' : 'none';\n",
              "    })();\n",
              "  </script>\n",
              "</div>\n",
              "\n",
              "    </div>\n",
              "  </div>\n"
            ],
            "application/vnd.google.colaboratory.intrinsic+json": {
              "type": "dataframe",
              "variable_name": "df",
              "summary": "{\n  \"name\": \"df\",\n  \"rows\": 36,\n  \"fields\": [\n    {\n      \"column\": \"Car\",\n      \"properties\": {\n        \"dtype\": \"category\",\n        \"num_unique_values\": 17,\n        \"samples\": [\n          \"Toyota\",\n          \"Mitsubishi\",\n          \"VW\"\n        ],\n        \"semantic_type\": \"\",\n        \"description\": \"\"\n      }\n    },\n    {\n      \"column\": \"Model\",\n      \"properties\": {\n        \"dtype\": \"string\",\n        \"num_unique_values\": 35,\n        \"samples\": [\n          \"A6\",\n          \"I30\",\n          \"CLA\"\n        ],\n        \"semantic_type\": \"\",\n        \"description\": \"\"\n      }\n    },\n    {\n      \"column\": \"Volume\",\n      \"properties\": {\n        \"dtype\": \"number\",\n        \"std\": 388,\n        \"min\": 900,\n        \"max\": 2500,\n        \"num_unique_values\": 12,\n        \"samples\": [\n          2100,\n          2000,\n          1000\n        ],\n        \"semantic_type\": \"\",\n        \"description\": \"\"\n      }\n    },\n    {\n      \"column\": \"Weight\",\n      \"properties\": {\n        \"dtype\": \"number\",\n        \"std\": 242,\n        \"min\": 790,\n        \"max\": 1746,\n        \"num_unique_values\": 31,\n        \"samples\": [\n          1235,\n          1119,\n          1523\n        ],\n        \"semantic_type\": \"\",\n        \"description\": \"\"\n      }\n    },\n    {\n      \"column\": \"CO2\",\n      \"properties\": {\n        \"dtype\": \"number\",\n        \"std\": 7,\n        \"min\": 90,\n        \"max\": 120,\n        \"num_unique_values\": 17,\n        \"samples\": [\n          99,\n          95,\n          98\n        ],\n        \"semantic_type\": \"\",\n        \"description\": \"\"\n      }\n    },\n    {\n      \"column\": \"Unnamed: 5\",\n      \"properties\": {\n        \"dtype\": \"number\",\n        \"std\": null,\n        \"min\": null,\n        \"max\": null,\n        \"num_unique_values\": 0,\n        \"samples\": [],\n        \"semantic_type\": \"\",\n        \"description\": \"\"\n      }\n    }\n  ]\n}"
            }
          },
          "metadata": {},
          "execution_count": 3
        }
      ]
    },
    {
      "cell_type": "code",
      "source": [
        "import matplotlib.pyplot as plt\n",
        "#This code creates a scatter plot showing the relationship between CO2 emissions and car models, with CO2 on the x-axis and car models on the y-axis.\n",
        "plt.scatter(df['CO2'],df['Car'])\n",
        "plt.xlabel('CO2')\n",
        "plt.ylabel('Car')\n",
        "plt.title('CO2 vs Car')\n",
        "plt.show()"
      ],
      "metadata": {
        "colab": {
          "base_uri": "https://localhost:8080/",
          "height": 472
        },
        "id": "OC7ZTVYpvvg-",
        "outputId": "cf4a6dc0-e567-41e0-8c61-4a72f4656cae"
      },
      "execution_count": 4,
      "outputs": [
        {
          "output_type": "display_data",
          "data": {
            "text/plain": [
              "<Figure size 640x480 with 1 Axes>"
            ],
            "image/png": "[encoded data removed]"
          },
          "metadata": {}
        }
      ]
    },
    {
      "cell_type": "code",
      "source": [
        "plt.scatter(df['CO2'],df['Model'])\n",
        "plt.xlabel('CO2')\n",
        "plt.ylabel('Model')\n",
        "plt.title('CO2 vs Model')\n",
        "plt.show()"
      ],
      "metadata": {
        "colab": {
          "base_uri": "https://localhost:8080/",
          "height": 472
        },
        "id": "dJ1e4098vxaG",
        "outputId": "d945cd92-6ae3-4324-867c-00d04d025e2f"
      },
      "execution_count": 5,
      "outputs": [
        {
          "output_type": "display_data",
          "data": {
            "text/plain": [
              "<Figure size 640x480 with 1 Axes>"
            ],
            "image/png": "[encoded data removed]"
          },
          "metadata": {}
        }
      ]
    },
    {
      "cell_type": "code",
      "source": [
        "plt.scatter(df['CO2'],df['Weight'])\n",
        "plt.xlabel('CO2')\n",
        "plt.ylabel('Weight')\n",
        "plt.title('CO2 vs Weight')\n",
        "plt.show()"
      ],
      "metadata": {
        "colab": {
          "base_uri": "https://localhost:8080/",
          "height": 472
        },
        "id": "A0S07PLSvz6-",
        "outputId": "2fd5662a-1cfa-49ca-c0e4-8544367a8401"
      },
      "execution_count": 6,
      "outputs": [
        {
          "output_type": "display_data",
          "data": {
            "text/plain": [
              "<Figure size 640x480 with 1 Axes>"
            ],
            "image/png": "[encoded data removed]"
          },
          "metadata": {}
        }
      ]
    },
    {
      "cell_type": "code",
      "source": [
        "df.shape # Displays the total count of the Rows and Columns respectively."
      ],
      "metadata": {
        "colab": {
          "base_uri": "https://localhost:8080/"
        },
        "id": "1CjY1xdCsWlY",
        "outputId": "7e690166-d035-4b6b-f0c4-19518191c2b1"
      },
      "execution_count": 7,
      "outputs": [
        {
          "output_type": "execute_result",
          "data": {
            "text/plain": [
              "(36, 6)"
            ]
          },
          "metadata": {},
          "execution_count": 7
        }
      ]
    },
    {
      "cell_type": "code",
      "source": [
        "df.isnull().sum() #Is used to display the dimensions of the DataFrame df. Giving you a quick overview of the size of your dataset."
      ],
      "metadata": {
        "colab": {
          "base_uri": "https://localhost:8080/",
          "height": 272
        },
        "id": "aLm3p3U_szVF",
        "outputId": "744de213-f2de-459d-db1a-cc99f1788f44"
      },
      "execution_count": 8,
      "outputs": [
        {
          "output_type": "execute_result",
          "data": {
            "text/plain": [
              "Car            0\n",
              "Model          0\n",
              "Volume         0\n",
              "Weight         0\n",
              "CO2            0\n",
              "Unnamed: 5    36\n",
              "dtype: int64"
            ],
            "text/html": [
              "<div>\n",
              "<style scoped>\n",
              "    .dataframe tbody tr th:only-of-type {\n",
              "        vertical-align: middle;\n",
              "    }\n",
              "\n",
              "    .dataframe tbody tr th {\n",
              "        vertical-align: top;\n",
              "    }\n",
              "\n",
              "    .dataframe thead th {\n",
              "        text-align: right;\n",
              "    }\n",
              "</style>\n",
              "<table border=\"1\" class=\"dataframe\">\n",
              "  <thead>\n",
              "    <tr style=\"text-align: right;\">\n",
              "      <th></th>\n",
              "      <th>0</th>\n",
              "    </tr>\n",
              "  </thead>\n",
              "  <tbody>\n",
              "    <tr>\n",
              "      <th>Car</th>\n",
              "      <td>0</td>\n",
              "    </tr>\n",
              "    <tr>\n",
              "      <th>Model</th>\n",
              "      <td>0</td>\n",
              "    </tr>\n",
              "    <tr>\n",
              "      <th>Volume</th>\n",
              "      <td>0</td>\n",
              "    </tr>\n",
              "    <tr>\n",
              "      <th>Weight</th>\n",
              "      <td>0</td>\n",
              "    </tr>\n",
              "    <tr>\n",
              "      <th>CO2</th>\n",
              "      <td>0</td>\n",
              "    </tr>\n",
              "    <tr>\n",
              "      <th>Unnamed: 5</th>\n",
              "      <td>36</td>\n",
              "    </tr>\n",
              "  </tbody>\n",
              "</table>\n",
              "</div><br><label><b>dtype:</b> int64</label>"
            ]
          },
          "metadata": {},
          "execution_count": 8
        }
      ]
    },
    {
      "cell_type": "code",
      "source": [
        "df.info() #Displays the total count of values present in the particular column along with the null count and data type."
      ],
      "metadata": {
        "colab": {
          "base_uri": "https://localhost:8080/"
        },
        "id": "vCZs1EeTs3eV",
        "outputId": "7375dc87-de90-4ea7-d801-5405aab5a973"
      },
      "execution_count": 9,
      "outputs": [
        {
          "output_type": "stream",
          "name": "stdout",
          "text": [
            "<class 'pandas.core.frame.DataFrame'>\n",
            "RangeIndex: 36 entries, 0 to 35\n",
            "Data columns (total 6 columns):\n",
            " #   Column      Non-Null Count  Dtype  \n",
            "---  ------      --------------  -----  \n",
            " 0   Car         36 non-null     object \n",
            " 1   Model       36 non-null     object \n",
            " 2   Volume      36 non-null     int64  \n",
            " 3   Weight      36 non-null     int64  \n",
            " 4   CO2         36 non-null     int64  \n",
            " 5   Unnamed: 5  0 non-null      float64\n",
            "dtypes: float64(1), int64(3), object(2)\n",
            "memory usage: 1.8+ KB\n"
          ]
        }
      ]
    },
    {
      "cell_type": "markdown",
      "source": [
        "###NO Null values found."
      ],
      "metadata": {
        "id": "Gj-J0pbX0OSM"
      }
    },
    {
      "cell_type": "code",
      "source": [
        "df[df.duplicated()] #This code returns the count of duplicate rows in the DataFrame df."
      ],
      "metadata": {
        "colab": {
          "base_uri": "https://localhost:8080/",
          "height": 53
        },
        "id": "l58YxQs3s659",
        "outputId": "e9e8a444-4eef-4b5f-ece3-2384386f6f9c"
      },
      "execution_count": 10,
      "outputs": [
        {
          "output_type": "execute_result",
          "data": {
            "text/plain": [
              "Empty DataFrame\n",
              "Columns: [Car, Model, Volume, Weight, CO2, Unnamed: 5]\n",
              "Index: []"
            ],
            "text/html": [
              "\n",
              "  <div id=\"df-1bcf278f-084b-4a51-a66a-17339cc072cd\" class=\"colab-df-container\">\n",
              "    <div>\n",
              "<style scoped>\n",
              "    .dataframe tbody tr th:only-of-type {\n",
              "        vertical-align: middle;\n",
              "    }\n",
              "\n",
              "    .dataframe tbody tr th {\n",
              "        vertical-align: top;\n",
              "    }\n",
              "\n",
              "    .dataframe thead th {\n",
              "        text-align: right;\n",
              "    }\n",
              "</style>\n",
              "<table border=\"1\" class=\"dataframe\">\n",
              "  <thead>\n",
              "    <tr style=\"text-align: right;\">\n",
              "      <th></th>\n",
              "      <th>Car</th>\n",
              "      <th>Model</th>\n",
              "      <th>Volume</th>\n",
              "      <th>Weight</th>\n",
              "      <th>CO2</th>\n",
              "      <th>Unnamed: 5</th>\n",
              "    </tr>\n",
              "  </thead>\n",
              "  <tbody>\n",
              "  </tbody>\n",
              "</table>\n",
              "</div>\n",
              "    <div class=\"colab-df-buttons\">\n",
              "\n",
              "  <div class=\"colab-df-container\">\n",
              "    <button class=\"colab-df-convert\" onclick=\"convertToInteractive('df-1bcf278f-084b-4a51-a66a-17339cc072cd')\"\n",
              "            title=\"Convert this dataframe to an interactive table.\"\n",
              "            style=\"display:none;\">\n",
              "\n",
              "  <svg xmlns=\"http://www.w3.org/2000/svg\" height=\"24px\" viewBox=\"0 -960 960 960\">\n",
              "    <path d=\"M120-120v-720h720v720H120Zm60-500h600v-160H180v160Zm220 220h160v-160H400v160Zm0 220h160v-160H400v160ZM180-400h160v-160H180v160Zm440 0h160v-160H620v160ZM180-180h160v-160H180v160Zm440 0h160v-160H620v160Z\"/>\n",
              "  </svg>\n",
              "    </button>\n",
              "\n",
              "  <style>\n",
              "    .colab-df-container {\n",
              "      display:flex;\n",
              "      gap: 12px;\n",
              "    }\n",
              "\n",
              "    .colab-df-convert {\n",
              "      background-color: #E8F0FE;\n",
              "      border: none;\n",
              "      border-radius: 50%;\n",
              "      cursor: pointer;\n",
              "      display: none;\n",
              "      fill: #1967D2;\n",
              "      height: 32px;\n",
              "      padding: 0 0 0 0;\n",
              "      width: 32px;\n",
              "    }\n",
              "\n",
              "    .colab-df-convert:hover {\n",
              "      background-color: #E2EBFA;\n",
              "      box-shadow: 0px 1px 2px rgba(60, 64, 67, 0.3), 0px 1px 3px 1px rgba(60, 64, 67, 0.15);\n",
              "      fill: #174EA6;\n",
              "    }\n",
              "\n",
              "    .colab-df-buttons div {\n",
              "      margin-bottom: 4px;\n",
              "    }\n",
              "\n",
              "    [theme=dark] .colab-df-convert {\n",
              "      background-color: #3B4455;\n",
              "      fill: #D2E3FC;\n",
              "    }\n",
              "\n",
              "    [theme=dark] .colab-df-convert:hover {\n",
              "      background-color: #434B5C;\n",
              "      box-shadow: 0px 1px 3px 1px rgba(0, 0, 0, 0.15);\n",
              "      filter: drop-shadow(0px 1px 2px rgba(0, 0, 0, 0.3));\n",
              "      fill: #FFFFFF;\n",
              "    }\n",
              "  </style>\n",
              "\n",
              "    <script>\n",
              "      const buttonEl =\n",
              "        document.querySelector('#df-1bcf278f-084b-4a51-a66a-17339cc072cd button.colab-df-convert');\n",
              "      buttonEl.style.display =\n",
              "        google.colab.kernel.accessAllowed ? 'block' : 'none';\n",
              "\n",
              "      async function convertToInteractive(key) {\n",
              "        const element = document.querySelector('#df-1bcf278f-084b-4a51-a66a-17339cc072cd');\n",
              "        const dataTable =\n",
              "          await google.colab.kernel.invokeFunction('convertToInteractive',\n",
              "                                                    [key], {});\n",
              "        if (!dataTable) return;\n",
              "\n",
              "        const docLinkHtml = 'Like what you see? Visit the ' +\n",
              "          '<a target=\"_blank\" href=https://colab.research.google.com/notebooks/data_table.ipynb>data table notebook</a>'\n",
              "          + ' to learn more about interactive tables.';\n",
              "        element.innerHTML = '';\n",
              "        dataTable['output_type'] = 'display_data';\n",
              "        await google.colab.output.renderOutput(dataTable, element);\n",
              "        const docLink = document.createElement('div');\n",
              "        docLink.innerHTML = docLinkHtml;\n",
              "        element.appendChild(docLink);\n",
              "      }\n",
              "    </script>\n",
              "  </div>\n",
              "\n",
              "\n",
              "    </div>\n",
              "  </div>\n"
            ],
            "application/vnd.google.colaboratory.intrinsic+json": {
              "type": "dataframe",
              "repr_error": "Out of range float values are not JSON compliant: nan"
            }
          },
          "metadata": {},
          "execution_count": 10
        }
      ]
    },
    {
      "cell_type": "markdown",
      "source": [
        "###No duplicate values present in the dataset"
      ],
      "metadata": {
        "id": "AyJPvDzI0T44"
      }
    },
    {
      "cell_type": "code",
      "source": [
        "# Drop unnecessary columns as it does not contribute to the finding the result.\n",
        "df = df.drop(columns=['Unnamed: 5'])\n",
        "\n",
        "# Check for nulls in important columns\n",
        "print(df.isnull().sum())\n"
      ],
      "metadata": {
        "colab": {
          "base_uri": "https://localhost:8080/"
        },
        "id": "EwHEpRN9s9X2",
        "outputId": "a83388e3-fc95-48a8-afda-73690e4e676c"
      },
      "execution_count": 11,
      "outputs": [
        {
          "output_type": "stream",
          "name": "stdout",
          "text": [
            "Car       0\n",
            "Model     0\n",
            "Volume    0\n",
            "Weight    0\n",
            "CO2       0\n",
            "dtype: int64\n"
          ]
        }
      ]
    },
    {
      "cell_type": "code",
      "source": [
        "# One-hot encoding for categorical variables\n",
        "data = pd.get_dummies(df, columns=['Car', 'Model'], drop_first=True)\n",
        "\n",
        "# Display the updated dataset\n",
        "print(df.head())\n"
      ],
      "metadata": {
        "colab": {
          "base_uri": "https://localhost:8080/"
        },
        "id": "sHsnLe3ftDWG",
        "outputId": "e76e5cae-0b28-4f1c-dddc-c4e4d57ebef2"
      },
      "execution_count": 12,
      "outputs": [
        {
          "output_type": "stream",
          "name": "stdout",
          "text": [
            "          Car       Model  Volume  Weight  CO2\n",
            "0      Toyota        Aygo    1000     790   99\n",
            "1  Mitsubishi  Space Star    1200    1160   95\n",
            "2       Skoda      Citigo    1000     929   95\n",
            "3        Fiat         500     900     865   90\n",
            "4        Mini      Cooper    1500    1140  105\n"
          ]
        }
      ]
    },
    {
      "cell_type": "markdown",
      "source": [
        "* Converts categorical variables ('Car' and 'Model') into numerical format by creating dummy/one-hot encoded variables.\n",
        "* drop_first=True removes the first category from each variable to avoid multicollinearity, which is common in linear models.\n",
        "* The result is a DataFrame with the original data plus new binary columns for each category of 'Car' and 'Model', except the first category."
      ],
      "metadata": {
        "id": "adjI8YVA0vgY"
      }
    },
    {
      "cell_type": "code",
      "source": [
        "from sklearn.model_selection import train_test_split\n",
        "\n",
        "# Features and target variable\n",
        "X = data.drop(columns=['CO2'])\n",
        "y = data['CO2']\n",
        "\n",
        "# Split data into training and testing sets\n",
        "X_train, X_test, y_train, y_test = train_test_split(X, y, test_size=0.2, random_state=42)\n"
      ],
      "metadata": {
        "id": "4YBTjNW-tMuI"
      },
      "execution_count": 13,
      "outputs": []
    },
    {
      "cell_type": "markdown",
      "source": [
        "* X = data.drop(columns=['CO2']): Creates the feature matrix X by dropping the target variable ('CO2') from the dataset.\n",
        "* y = data['CO2']: Assigns the target variable ('CO2') to y, which will be predicted using the features in X.\n",
        "\n",
        "* Splits the dataset into training and testing sets.\n",
        "* test_size=0.2 means 20% of the data is used for testing, and 80% for training.\n",
        "* random_state=42 ensures reproducibility by fixing the random seed.\n",
        "* The resulting splits are:\n",
        "**   X_train, y_train: Training data (80%).\n",
        "**   X_test, y_test: Testing data (20%)."
      ],
      "metadata": {
        "id": "QlH8aBPk1ijF"
      }
    },
    {
      "cell_type": "code",
      "source": [
        "from sklearn.preprocessing import StandardScaler\n",
        "from sklearn.linear_model import Ridge, Lasso\n",
        "from sklearn.metrics import mean_squared_error\n"
      ],
      "metadata": {
        "id": "OA0PX7OztYYx"
      },
      "execution_count": 14,
      "outputs": []
    },
    {
      "cell_type": "code",
      "source": [
        "# Standardize the data\n",
        "scaler = StandardScaler()\n",
        "X_train_scaled = scaler.fit_transform(X_train)\n",
        "X_test_scaled = scaler.transform(X_test)"
      ],
      "metadata": {
        "id": "KDrFBCE-tgoB"
      },
      "execution_count": 15,
      "outputs": []
    },
    {
      "cell_type": "markdown",
      "source": [
        "* scaler = StandardScaler(): Initializes the scaler to normalize features by removing the mean and scaling to unit variance.\n",
        "* X_train_scaled = scaler.fit_transform(X_train): Fits the scaler to the training data and transforms it.\n",
        "* X_test_scaled = scaler.transform(X_test): Transforms the test data using the same scaling learned from the training data (without refitting)."
      ],
      "metadata": {
        "id": "KTfAzf-73Ys3"
      }
    },
    {
      "cell_type": "code",
      "source": [
        "# Ridge (L2) Regularization\n",
        "ridge = Ridge(alpha=1.0)  # Adjust alpha for tuning\n",
        "ridge.fit(X_train_scaled, y_train)\n",
        "y_pred_ridge = ridge.predict(X_test_scaled)\n",
        "ridge_mse = mean_squared_error(y_test, y_pred_ridge)"
      ],
      "metadata": {
        "id": "FiHGYq_TtjoB"
      },
      "execution_count": 16,
      "outputs": []
    },
    {
      "cell_type": "markdown",
      "source": [
        "The code trains a Ridge regression model and evaluates its performance:\n",
        "\n",
        "* ridge = Ridge(alpha=1.0): Initializes a Ridge regression model with an L2 regularization strength of 1.0 (you can adjust alpha to control regularization).\n",
        "* ridge.fit(X_train_scaled, y_train): Trains the Ridge model on the scaled training data.\n",
        "* y_pred_ridge = ridge.predict(X_test_scaled): Predicts CO2 emissions for the scaled test data.\n",
        "* ridge_mse = mean_squared_error(y_test, y_pred_ridge): Calculates the mean squared error (MSE) of the predictions to evaluate model accuracy."
      ],
      "metadata": {
        "id": "tbZD7Ht531pR"
      }
    },
    {
      "cell_type": "code",
      "source": [
        "# Lasso (L1) Regularization\n",
        "lasso = Lasso(alpha=0.1)  # Adjust alpha for tuning\n",
        "lasso.fit(X_train_scaled, y_train)\n",
        "y_pred_lasso = lasso.predict(X_test_scaled)\n",
        "lasso_mse = mean_squared_error(y_test, y_pred_lasso)"
      ],
      "metadata": {
        "id": "Ki_mEzoytl2p"
      },
      "execution_count": 17,
      "outputs": []
    },
    {
      "cell_type": "markdown",
      "source": [
        "This code trains a Lasso regression model and evaluates its performance:\n",
        "\n",
        "* lasso = Lasso(alpha=0.1): Initializes a Lasso regression model with an L1 regularization strength of 0.1 (you can adjust alpha to control regularization).\n",
        "* lasso.fit(X_train_scaled, y_train): Trains the Lasso model on the scaled training data.\n",
        "* y_pred_lasso = lasso.predict(X_test_scaled): Predicts CO2 emissions for the scaled test data.\n",
        "* lasso_mse = mean_squared_error(y_test, y_pred_lasso): Computes the mean squared error (MSE) to evaluate the model’s performance, indicating how well the model predicts on unseen data."
      ],
      "metadata": {
        "id": "npt6tMgF4ReB"
      }
    },
    {
      "cell_type": "code",
      "source": [
        "print(f'Ridge MSE: {ridge_mse}')\n",
        "print(f'Lasso MSE: {lasso_mse}')"
      ],
      "metadata": {
        "colab": {
          "base_uri": "https://localhost:8080/"
        },
        "id": "yNbCXICutoHD",
        "outputId": "9af3ba0a-8bb8-4a4f-b53d-7387c30621e2"
      },
      "execution_count": 18,
      "outputs": [
        {
          "output_type": "stream",
          "name": "stdout",
          "text": [
            "Ridge MSE: 96.15423760095288\n",
            "Lasso MSE: 132.14482668567703\n"
          ]
        }
      ]
    },
    {
      "cell_type": "code",
      "source": [
        "from sklearn.model_selection import GridSearchCV\n",
        "\n",
        "# Ridge Hyperparameter Tuning\n",
        "ridge_params = {'alpha': [0.01, 0.1, 1, 10, 100]}\n",
        "ridge_grid = GridSearchCV(Ridge(), ridge_params, cv=5)\n",
        "ridge_grid.fit(X_train_scaled, y_train)\n",
        "print(f'Best Ridge Alpha: {ridge_grid.best_params_}')"
      ],
      "metadata": {
        "colab": {
          "base_uri": "https://localhost:8080/"
        },
        "id": "pm93_9K6tqnz",
        "outputId": "effb2d47-edbc-4e00-bd0b-af628f0caafa"
      },
      "execution_count": 19,
      "outputs": [
        {
          "output_type": "stream",
          "name": "stdout",
          "text": [
            "Best Ridge Alpha: {'alpha': 10}\n"
          ]
        }
      ]
    },
    {
      "cell_type": "markdown",
      "source": [
        "This code performs hyperparameter tuning for Ridge regression using cross-validation:\n",
        "\n",
        "* ridge_params = {'alpha': [0.01, 0.1, 1, 10, 100]}: Defines a range of alpha values to test for Ridge regression.\n",
        "* ridge_grid = GridSearchCV(Ridge(), ridge_params, cv=5): Initializes a grid search with 5-fold cross-validation to find the best alpha value.\n",
        "* ridge_grid.fit(X_train_scaled, y_train): Fits the grid search to the scaled training data to evaluate different alpha values.\n",
        "* print(f'Best Ridge Alpha: {ridge_grid.best_params_}'): Prints the alpha value that resulted in the best performance during cross-validation."
      ],
      "metadata": {
        "id": "qxO2BBFx4tnz"
      }
    },
    {
      "cell_type": "code",
      "source": [
        "# Ridge (L2) Regularization\n",
        "ridge = Ridge(alpha=10)  # Adjusting the alpha after hyperparameter Tuning.\n",
        "ridge.fit(X_train_scaled, y_train)\n",
        "y_pred_ridge = ridge.predict(X_test_scaled)\n",
        "ridge_mse = mean_squared_error(y_test, y_pred_ridge)"
      ],
      "metadata": {
        "id": "IrEJaPn5tv3D"
      },
      "execution_count": 20,
      "outputs": []
    },
    {
      "cell_type": "code",
      "source": [
        "print(f'Ridge MSE: {ridge_mse}')"
      ],
      "metadata": {
        "colab": {
          "base_uri": "https://localhost:8080/"
        },
        "id": "fYCq_zCkt_jR",
        "outputId": "f9f0ffdb-49dc-48ba-ea23-bcf03b3938c3"
      },
      "execution_count": 21,
      "outputs": [
        {
          "output_type": "stream",
          "name": "stdout",
          "text": [
            "Ridge MSE: 95.77770592628974\n"
          ]
        }
      ]
    },
    {
      "cell_type": "code",
      "source": [
        "# Lasso Hyperparameter Tuning\n",
        "lasso_params = {'alpha': [0.01, 0.1, 1, 10, 100]}\n",
        "lasso_grid = GridSearchCV(Lasso(), lasso_params, cv=5)\n",
        "lasso_grid.fit(X_train_scaled, y_train)\n",
        "print(f'Best Lasso Alpha: {lasso_grid.best_params_}')"
      ],
      "metadata": {
        "colab": {
          "base_uri": "https://localhost:8080/"
        },
        "id": "yF5AnIrJt_yf",
        "outputId": "1d2b29da-0bd6-40cf-e696-6ed87d947997"
      },
      "execution_count": 22,
      "outputs": [
        {
          "output_type": "stream",
          "name": "stdout",
          "text": [
            "Best Lasso Alpha: {'alpha': 1}\n"
          ]
        }
      ]
    },
    {
      "cell_type": "markdown",
      "source": [
        "This code performs hyperparameter tuning for Lasso regression using cross-validation:\n",
        "\n",
        "* lasso_params = {'alpha': [0.01, 0.1, 1, 10, 100]}: Defines a range of alpha values to test for Lasso regression.\n",
        "* lasso_grid = GridSearchCV(Lasso(), lasso_params, cv=5): Initializes a grid search with 5-fold cross-validation to find the optimal alpha value for Lasso.\n",
        "* lasso_grid.fit(X_train_scaled, y_train): Fits the grid search to the scaled training data to evaluate the different alpha values.\n",
        "* print(f'Best Lasso Alpha: {lasso_grid.best_params_}'): Prints the alpha value that achieved the best performance during cross-validation."
      ],
      "metadata": {
        "id": "ibBpaGGb594X"
      }
    },
    {
      "cell_type": "code",
      "source": [
        "# Lasso (L1) Regularization\n",
        "lasso = Lasso(alpha=1)  # Adjusting the alpha after hyperparameter Tuning.\n",
        "lasso.fit(X_train_scaled, y_train)\n",
        "y_pred_lasso = lasso.predict(X_test_scaled)\n",
        "lasso_mse = mean_squared_error(y_test, y_pred_lasso)"
      ],
      "metadata": {
        "id": "9mZQxzNfuDF-"
      },
      "execution_count": 23,
      "outputs": []
    },
    {
      "cell_type": "code",
      "source": [
        "print(f'Lasso MSE: {lasso_mse}')"
      ],
      "metadata": {
        "colab": {
          "base_uri": "https://localhost:8080/"
        },
        "id": "8NHA2571uId2",
        "outputId": "289e9b5b-bf54-4c08-bd5b-452340a6f69c"
      },
      "execution_count": 24,
      "outputs": [
        {
          "output_type": "stream",
          "name": "stdout",
          "text": [
            "Lasso MSE: 100.01678396584751\n"
          ]
        }
      ]
    },
    {
      "cell_type": "code",
      "source": [
        "import matplotlib.pyplot as plt\n",
        "\n",
        "# Plot Lasso coefficients\n",
        "plt.plot(lasso.coef_, marker='o')\n",
        "plt.title('Lasso Coefficients')\n",
        "plt.show()\n"
      ],
      "metadata": {
        "colab": {
          "base_uri": "https://localhost:8080/",
          "height": 452
        },
        "id": "zzDpBLAVuKqO",
        "outputId": "b39c056d-4d8f-4a83-887a-a10905f39fb7"
      },
      "execution_count": 25,
      "outputs": [
        {
          "output_type": "display_data",
          "data": {
            "text/plain": [
              "<Figure size 640x480 with 1 Axes>"
            ],
            "image/png": "[encoded data removed]"
          },
          "metadata": {}
        }
      ]
    },
    {
      "cell_type": "markdown",
      "source": [
        "This code visualizes the coefficients of a trained Lasso regression model:\n",
        "\n",
        "* plt.plot(lasso.coef_, marker='o'): Plots the Lasso regression coefficients as a line plot, with each coefficient represented by a marker ('o').\n",
        "* plt.title('Lasso Coefficients'): Sets the title of the plot to \"Lasso Coefficients\".\n",
        "* plt.show(): Displays the plot.\n",
        "\n",
        "\n",
        "This helps you understand which features have non-zero coefficients and their relative importance after Lasso regularization."
      ],
      "metadata": {
        "id": "qUB-bvaB6efA"
      }
    },
    {
      "cell_type": "code",
      "source": [],
      "metadata": {
        "id": "B-QayaIg6kM8"
      },
      "execution_count": 25,
      "outputs": []
    }
  ]
}